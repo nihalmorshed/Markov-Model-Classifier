{
  "cells": [
    {
      "cell_type": "code",
      "execution_count": 27,
      "metadata": {
        "colab": {
          "base_uri": "https://localhost:8080/"
        },
        "id": "Zib1jbyVhNES",
        "outputId": "8534e5e3-00c3-4f92-f688-ca2934dc593f"
      },
      "outputs": [
        {
          "name": "stdout",
          "output_type": "stream",
          "text": [
            "--2024-07-05 15:57:53--  https://raw.githubusercontent.com/lazyprogrammer/machine_learning_examples/master/hmm_class/edgar_allan_poe.txt\n",
            "Resolving raw.githubusercontent.com (raw.githubusercontent.com)... 185.199.108.133, 185.199.109.133, 185.199.110.133, ...\n",
            "Connecting to raw.githubusercontent.com (raw.githubusercontent.com)|185.199.108.133|:443... connected.\n",
            "HTTP request sent, awaiting response... 200 OK\n",
            "Length: 26622 (26K) [text/plain]\n",
            "Saving to: ‘edgar_allan_poe.txt’\n",
            "\n",
            "\redgar_allan_poe.txt   0%[                    ]       0  --.-KB/s               \redgar_allan_poe.txt 100%[===================>]  26.00K  --.-KB/s    in 0s      \n",
            "\n",
            "2024-07-05 15:57:53 (117 MB/s) - ‘edgar_allan_poe.txt’ saved [26622/26622]\n",
            "\n",
            "--2024-07-05 15:57:53--  https://raw.githubusercontent.com/lazyprogrammer/machine_learning_examples/master/hmm_class/robert_frost.txt\n",
            "Resolving raw.githubusercontent.com (raw.githubusercontent.com)... 185.199.109.133, 185.199.108.133, 185.199.111.133, ...\n",
            "Connecting to raw.githubusercontent.com (raw.githubusercontent.com)|185.199.109.133|:443... connected.\n",
            "HTTP request sent, awaiting response... 200 OK\n",
            "Length: 56286 (55K) [text/plain]\n",
            "Saving to: ‘robert_frost.txt’\n",
            "\n",
            "robert_frost.txt    100%[===================>]  54.97K  --.-KB/s    in 0.002s  \n",
            "\n",
            "2024-07-05 15:57:53 (32.8 MB/s) - ‘robert_frost.txt’ saved [56286/56286]\n",
            "\n"
          ]
        }
      ],
      "source": [
        "!wget -nc https://raw.githubusercontent.com/lazyprogrammer/machine_learning_examples/master/hmm_class/edgar_allan_poe.txt\n",
        "!wget -nc https://raw.githubusercontent.com/lazyprogrammer/machine_learning_examples/master/hmm_class/robert_frost.txt\n"
      ]
    },
    {
      "cell_type": "code",
      "execution_count": 28,
      "metadata": {
        "id": "PS2RoCOi91_K"
      },
      "outputs": [],
      "source": [
        "import numpy as np\n",
        "import matplotlib.pyplot as plt\n",
        "import string\n",
        "from sklearn.metrics import confusion_matrix, f1_score\n",
        "from sklearn.model_selection import train_test_split"
      ]
    },
    {
      "cell_type": "code",
      "execution_count": 29,
      "metadata": {
        "colab": {
          "base_uri": "https://localhost:8080/"
        },
        "id": "R9g5yzgI-DyH",
        "outputId": "0daf9701-d925-426c-99fe-d97e92c8fbd3"
      },
      "outputs": [
        {
          "name": "stdout",
          "output_type": "stream",
          "text": [
            "LO! Death hath rear'd himself a throne\n",
            "In a strange city, all alone,\n",
            "Far down within the dim west\n",
            "Where the good, and the bad, and the worst, and the best,\n",
            "Have gone to their eternal rest.\n",
            " \n",
            "There shrines, and palaces, and towers\n",
            "Are not like any thing of ours\n",
            "Oh no! O no! ours never loom\n",
            "To heaven with that ungodly gloom!\n"
          ]
        }
      ],
      "source": [
        "input_files = ['edgar_allan_poe.txt', 'robert_frost.txt']\n",
        "!head 'edgar_allan_poe.txt'"
      ]
    },
    {
      "cell_type": "code",
      "execution_count": 30,
      "metadata": {
        "colab": {
          "base_uri": "https://localhost:8080/"
        },
        "id": "VWci1wLl-3pA",
        "outputId": "9e6ed92f-3d52-4407-818a-5d438f721d48"
      },
      "outputs": [
        {
          "name": "stdout",
          "output_type": "stream",
          "text": [
            "Two roads diverged in a yellow wood,\n",
            "And sorry I could not travel both\n",
            "And be one traveler, long I stood\n",
            "And looked down one as far as I could\n",
            "To where it bent in the undergrowth; \n",
            "\n",
            "Then took the other, as just as fair,\n",
            "And having perhaps the better claim\n",
            "Because it was grassy and wanted wear,\n",
            "Though as for that the passing there\n"
          ]
        }
      ],
      "source": [
        "\n",
        "!head 'robert_frost.txt'"
      ]
    },
    {
      "cell_type": "code",
      "execution_count": 31,
      "metadata": {
        "colab": {
          "base_uri": "https://localhost:8080/"
        },
        "id": "6_Y1RFgk_A6L",
        "outputId": "ef48e240-7440-41f7-b724-2df9879abcd0"
      },
      "outputs": [
        {
          "name": "stdout",
          "output_type": "stream",
          "text": [
            "Reading edgar_allan_poe.txt corresponding to label 0\n",
            "Reading robert_frost.txt corresponding to label 1\n"
          ]
        }
      ],
      "source": [
        "#Collect data into lists\n",
        "input_texts = []\n",
        "labels = []\n",
        "for label, files in enumerate(input_files):\n",
        "  print(f'Reading {files} corresponding to label {label}')\n",
        "  for line in open(files):\n",
        "    line = line.rstrip().lower() #python adds a newline character at the end of each line while looping thorough lines. rstrip() removes the '\\n'\n",
        "    if line: #some lines maybe empty lines\n",
        "      line = line.translate(str.maketrans('', '', string.punctuation)) #removes punctuation (NOT CRUCIAL TO UNDERSTAND THIS STATEMENT)\n",
        "      input_texts.append(line)\n",
        "      labels.append(label)\n"
      ]
    },
    {
      "cell_type": "code",
      "execution_count": 32,
      "metadata": {
        "id": "sDOJrq5BBWnX"
      },
      "outputs": [],
      "source": [
        "train_texts, test_texts, train_labels, test_labels = train_test_split(input_texts, labels, test_size=0.2)"
      ]
    },
    {
      "cell_type": "code",
      "execution_count": 33,
      "metadata": {
        "colab": {
          "base_uri": "https://localhost:8080/"
        },
        "id": "g1Lea3HjBhzt",
        "outputId": "30ffb722-4c04-442d-d859-9e8430a64624"
      },
      "outputs": [
        {
          "data": {
            "text/plain": [
              "['that high tone of the spirit which hath striven',\n",
              " 'well take me there',\n",
              " 'how daring an ambition yet how deep',\n",
              " 'with furs to sell',\n",
              " 'with a swish in the grass what if the others']"
            ]
          },
          "execution_count": 33,
          "metadata": {},
          "output_type": "execute_result"
        }
      ],
      "source": [
        "train_texts[:5]"
      ]
    },
    {
      "cell_type": "code",
      "execution_count": 34,
      "metadata": {
        "colab": {
          "base_uri": "https://localhost:8080/"
        },
        "id": "EqTx1NZeB4Pl",
        "outputId": "69ce015d-5491-4c08-bdc6-9bc08035d084"
      },
      "outputs": [
        {
          "data": {
            "text/plain": [
              "[0, 1, 0, 1, 1]"
            ]
          },
          "execution_count": 34,
          "metadata": {},
          "output_type": "execute_result"
        }
      ],
      "source": [
        "train_labels[:5]"
      ]
    },
    {
      "cell_type": "code",
      "execution_count": 35,
      "metadata": {
        "colab": {
          "base_uri": "https://localhost:8080/"
        },
        "id": "5xdMzmK1CLk1",
        "outputId": "85874768-182a-4e96-bfdd-af4701e5d981"
      },
      "outputs": [
        {
          "name": "stdout",
          "output_type": "stream",
          "text": [
            "{'<unk>': 0, 'that': 0, 'high': 1, 'tone': 2, 'of': 3, 'the': 4, 'spirit': 5, 'which': 6, 'hath': 7, 'striven': 8, 'well': 9, 'take': 10, 'me': 11, 'there': 12, 'how': 13, 'daring': 14, 'an': 15, 'ambition': 16, 'yet': 17, 'deep': 18, 'with': 19, 'furs': 20, 'to': 21, 'sell': 22, 'a': 23, 'swish': 24, 'in': 25, 'grass': 26, 'what': 27, 'if': 28, 'others': 29, 'and': 30, 'i': 31, 'dread': 32, 'ominous': 33, 'stain': 34, 'tar': 35, 'ill': 36, 'hardly': 37, 'breathe': 38, 'he': 39, 'want': 40, 'but': 41, 'fifteen': 42, 'at': 43, 'time': 44, 'they': 45, 'say': 46, 'drawn': 47, 'into': 48, 'town': 49, 'about': 50, 'this': 51, 'cellar': 52, 'hole': 53, 'from': 54, 'north': 55, 'south': 56, 'across': 57, 'blue': 58, 'knowing': 59, 'way': 60, 'leads': 61, 'on': 62, 'see': 63, 'were': 64, 'beside': 65, 'track': 66, 'quickening': 67, 'spell': 68, 'doth': 69, 'oer': 70, 'us': 71, 'pass': 72, 'far': 73, 'down': 74, 'within': 75, 'dim': 76, 'west': 77, 'barn': 78, 'smells': 79, 'you': 80, 'cant': 81, 'wash': 82, 'out': 83, 'ploughed': 84, 'ground': 85, 'bones': 86, 'grave': 87, 'promised': 88, 'toffile': 89, 'be': 90, 'cruel': 91, 'them': 92, 'behind': 93, 'door': 94, 'headboard': 95, 'bed': 96, 'having': 97, 'interfered': 98, 'huse': 99, 'business': 100, 'reason': 101, 'enough': 102, 'was': 103, 'no': 104, 'property': 105, 'woods': 106, 'are': 107, 'lovely': 108, 'dark': 109, 'each': 110, 'hour': 111, 'before': 112, 'then': 113, 'only': 114, 'bid': 115, 'monarch': 116, 'thoughts': 117, 'dominion': 118, 'she': 119, 'has': 120, 'seen': 121, 'tears': 122, 'not': 123, 'dry': 124, 'rights': 125, 'harder': 126, 'get': 127, 'those': 128, 'unusual': 129, 'strings': 130, 'we': 131, 'have': 132, 'visions': 133, 'now': 134, 'consult': 135, 'voices': 136, 'something': 137, 'brushed': 138, 'my': 139, 'mind': 140, 'hes': 141, 'so': 142, 'off': 143, 'ive': 144, 'come': 145, 'someone': 146, 'came': 147, 'cart': 148, 'pair': 149, 'show': 150, 'had': 151, 'her': 152, 'sills': 153, 'extended': 154, 'think': 155, 'too': 156, 'much': 157, 'shaded': 158, 'disturbed': 159, 'slumbering': 160, 'village': 161, 'street': 162, 'old': 163, 'entombed': 164, 'it': 165, 'knew': 166, 'good': 167, 'never': 168, 'said': 169, 'after': 170, 'married': 171, 'july': 172, 'midnight': 173, 'matter': 174, 'many': 175, 'times': 176, 'shall': 177, 'find': 178, 'lies': 179, 'charred': 180, 'all': 181, 'olden': 182, 'front': 183, 'every': 184, 'one': 185, 'grafton': 186, 'county': 187, 'could': 188, 'thought': 189, 'dead': 190, 'souls': 191, 'stop': 192, 'lift': 193, 'face': 194, 'mans': 195, 'his': 196, 'father': 197, 'killed': 198, 'for': 199, 'allowed': 200, 'upside': 201, 'groan': 202, 'as': 203, 'roll': 204, 'mount': 205, 'yaanek': 206, 'libation': 207, 'tyrannys': 208, 'blood': 209, 'stroked': 210, 'hornyhanded': 211, 'kindness': 212, 'smell': 213, 'fire': 214, 'drowned': 215, 'rain': 216, 'fate': 217, 'whose': 218, 'name': 219, 'is': 220, 'also': 221, 'sorrow': 222, 'situation': 223, 'like': 224, 'road': 225, 'attic': 226, 'less': 227, 'than': 228, 'tottering': 229, 'above': 230, 'thatd': 231, 'last': 232, 'days': 233, 'near': 234, 'paradise': 235, 'pairing': 236, 'ends': 237, 'goodbye': 238, 'such': 239, 'case': 240, 'growing': 241, 'or': 242, 'grown': 243, 'stood': 244, 'leave': 245, 'trade': 246, 'mark': 247, 'mean': 248, 'shes': 249, 'else': 250, 'our': 251, 'wildest': 252, 'headless': 253, 'horse': 254, 'went': 255, 'wrong': 256, 'saw': 257, 'him': 258, 'throw': 259, 'hoe': 260, 'whats': 261, 'heart': 262, 'grew': 263, 'ashen': 264, 'sober': 265, 'surest': 266, 'thing': 267, 'riders': 268, 'world': 269, 'thy': 270, 'gentle': 271, 'ways': 272, 'call': 273, 'up': 274, 'winter': 275, 'evening': 276, 'uttered': 277, 'alone': 278, 'makes': 279, 'worse': 280, 'must': 281, 'blind': 282, 'over': 283, 'back': 284, 'where': 285, 'speak': 286, 'life': 287, 'staying': 288, 'youthful': 289, 'forms': 290, 'faces': 291, 'travellers': 292, 'valley': 293, 'passed': 294, 'other': 295, 'know': 296, 'thats': 297, 'johns': 298, 'idea': 299, 'witherd': 300, 'rose': 301, 'woe': 302, 'sublime': 303, 'hope': 304, 'heed': 305, 'desolate': 306, 'since': 307, 'man': 308, 'began': 309, 'men': 310, 'will': 311, 'ridiculous': 312, 'by': 313, 'tying': 314, 'together': 315, 'firsts': 316, 'books': 317, 'when': 318, 'who': 319, 'would': 320, 'seeking': 321, 'new': 322, 'hampshire': 323, 'utmost': 324, 'star': 325, 'crew': 326, 'left': 327, 'failed': 328, 'cider': 329, 'girl': 330, 'thirsty': 331, 'nearest': 332, 'resembles': 333, 'worship': 334, 'oh': 335, 'remember': 336, 'quenching': 337, 'fires': 338, 'its': 339, 'ashes': 340, 'hide': 341, 'both': 342, 'either': 343, 'looking': 344, 'finding': 345, 'supposed': 346, 'mad': 347, 'turn': 348, 'round': 349, 'got': 350, 'saying': 351, 'things': 352, 'between': 353, 'frozen': 354, 'lake': 355, 'though': 356, 'once': 357, 'journey': 358, 'here': 359, 'nation': 360, 'sounds': 361, 'sweep': 362, 'should': 363, 'stock': 364, 'petered': 365, 'house': 366, 'more': 367, 'rattling': 368, 'shutter': 369, 'hadnt': 370, 'gnawed': 371, 'hitching': 372, 'posts': 373, 'tender': 374, 'verse': 375, 'escaped': 376, 'their': 377, 'outrage': 378, 'self': 379, 'station': 380, 'couldnt': 381, 'living': 382, 'aint': 383, 'wanted': 384, 'try': 385, 'noise': 386, 'fever': 387, 'moonbeam': 388, 'hangs': 389, 'being': 390, 'cut': 391, 'friends': 392, 'because': 393, 'grassy': 394, 'wear': 395, 'dust': 396, 'followed': 397, 'mile': 398, 'been': 399, 'starks': 400, 'doubtless': 401, 'today': 402, 'youth': 403, 'known': 404, 'whom': 405, 'earth': 406, 'sacred': 407, 'sun': 408, 'weeping': 409, 'bless': 410, 'thee': 411, 'may': 412, 'please': 413, 'yourself': 414, 'harmodious': 415, 'gallant': 416, 'memories': 417, 'treacherous': 418, 'sere': 419, 'past': 420, 'stars': 421, 'lion': 422, 'meaning': 423, 'beauty': 424, 'tonight': 425, 'poor': 426, 'dear': 427, 'great': 428, 'granny': 429, 'flashed': 430, 'licked': 431, 'along': 432, 'upper': 433, 'teeth': 434, 'wings': 435, 'until': 436, 'trailed': 437, 'hall': 438, 'id': 439, 'hitched': 440, 'very': 441, 'night': 442, 'year': 443, 'monolithic': 444, 'knees': 445, 'former': 446, 'porphyrogene': 447, 'beats': 448, 'coupling': 449, 'two': 450, 'words': 451, 'nothing': 452, 'sailed': 453, 'worn': 454, 'skin': 455, 'claiming': 456, 'some': 457, 'priority': 458, 'starkness': 459, 'little': 460, 'silver': 461, 'bells': 462, 'horrible': 463, 'monody': 464, 'floats': 465, 'tasted': 466, 'desire': 467, 'pens': 468, 'thrills': 469, 'shell': 470, 'im': 471, 'mother': 472, 'certain': 473, 'coolness': 474, 'make': 475, 'leaf': 476, 'stir': 477, 'hiss': 478, 'spray': 479, 'wampum': 480, 'dont': 481, 'complain': 482, 'seek': 483, 'treasure': 484, 'jewelled': 485, 'skies': 486, 'going': 487, 'hed': 488, 'doubt': 489, 'around': 490, 'wind': 491, 'dared': 492, 'unless': 493, 'tiptoe': 494, 'talk': 495, 'does': 496, 'better': 497, 'banking': 498, 'leases': 499, 'your': 500, 'summer': 501, 'dwelling': 502, 'stone': 503, 'lead': 504, 'unprotected': 505, 'glass': 506, 'even': 507, 'ought': 508, 'gave': 509, 'return': 510, 'lovelight': 511, 'tis': 512, 'vault': 513, 'lost': 514, 'ulalume': 515, 'arose': 516, 'duplicate': 517, 'horn': 518, 'scurf': 519, 'plants': 520, 'weary': 521, 'overheated': 522, 'hand': 523, 'buttonbox': 524, 'grace': 525, 'did': 526, 'guide': 527, 'thine': 528, 'child': 529, 'comes': 530, 'wasnt': 531, 'none': 532, 'successful': 533, 'guiders': 534, 'gilt': 535, 'gold': 536, 'wouldnt': 537, 'concerned': 538, 'human': 539, 'brain': 540, 'estelle': 541, 'do': 542, 'housework': 543, 'board': 544, 'give': 545, 'purer': 546, 'oracle': 547, 'passionate': 548, 'light': 549, 'fit': 550, 'drear': 551, 'path': 552, 'alas': 553, 'grows': 554, 'nova': 555, 'hardest': 556, 'hue': 557, 'hold': 558, 'brook': 559, 'wild': 560, 'descent': 561, 'experts': 562, 'mountain': 563, 'cypress': 564, 'roamed': 565, 'soul': 566, 'hear': 567, 'tell': 568, 'scarified': 569, 'longer': 570, 'mustnt': 571, 'feel': 572, 'hurried': 573, 'through': 574, 'everything': 575, 'presented': 576, 'land': 577, 'tide': 578, 'odorous': 579, 'ecstatic': 580, 'death': 581, 'why': 582, 'three': 583, 'sit': 584, 'open': 585, 'incense': 586, 'roses': 587, 'worth': 588, 'lifes': 589, 'while': 590, 'wake': 591, 'sport': 592, 'long': 593, 'ago': 594, 'sends': 595, 'yes': 596, 'theres': 597, 'keeping': 598, 'pen': 599, 'falls': 600, 'powerless': 601, 'shivering': 602, 'kitchen': 603, 'thrill': 604, 'single': 605, 'kiss': 606, 'smoke': 607, 'rolled': 608, 'inside': 609, 'sockets': 610, 'eyes': 611, 'ultimate': 612, 'climes': 613, 'pole': 614, 'aknown': 615, 'young': 616, 'whence': 617, 'forth': 618, 'sign': 619, 'spose': 620, 'mallice': 621, 'getting': 622, 'home': 623, 'again': 624, 'wed': 625, 'ever': 626, 'stairs': 627, 'stand': 628, 'perplexed': 629, 'charge': 630, 'upstart': 631, 'inexperience': 632, 'mistrusted': 633, 'proud': 634, 'miles': 635, 'go': 636, 'sleep': 637, 'end': 638, 'under': 639, 'feared': 640, 'cold': 641, 'half': 642, 'boring': 643, 'climbing': 644, 'figures': 645, 'described': 646, 'just': 647, 'fun': 648, 'gets': 649, 'bedeviled': 650, 'bank': 651, 'note': 652, 'fold': 653, 'these': 654, 'cheeks': 655, 'worm': 656, 'dies': 657, 'crowd': 658, 'earthly': 659, 'save': 660, 'wonder': 661, 'alley': 662, 'titanic': 663, 'trust': 664, 'youve': 665, 'least': 666, 'solace': 667, 'soulandbody': 668, 'scars': 669, 'often': 670, 'forget': 671, 'lone': 672, 'took': 673, 'traveled': 674, 'shoulders': 675, 'dragging': 676, 'yellow': 677, 'strands': 678, 'can': 679, 'outwalked': 680, 'furthest': 681, 'city': 682, 'till': 683, 'sorrowfully': 684, 'furniture': 685, 'done': 686, 'turned': 687, 'fathom': 688, 'shouldnt': 689, 'youre': 690, 'lethean': 691, 'peace': 692, 'folk': 693, 'conies': 694, 'romp': 695, 'volcanic': 696, 'thinks': 697, 'bad': 698, 'live': 699, 'lips': 700, 'melody': 701, 'orchid': 702, 'calypso': 703, 'passing': 704, 'hate': 705, 'sometimes': 706, 'outside': 707, 'doors': 708, 'held': 709, 'against': 710, 'force': 711, 'strait': 712, 'leaves': 713, 'withering': 714, 'still': 715, 'haunt': 716, 'side': 717, 'panther': 718, 'governor': 719, 'proclaimed': 720, 'anyone': 721, 'upon': 722, 'children': 723, 'word': 724, 'bear': 725, 'hard': 726, 'comers': 727, 'bring': 728, 'chalkpile': 729, 'theyve': 730, 'settled': 731, 'prove': 732, 'john': 733, 'likes': 734, 'offers': 735, 'gazing': 736, 'entranced': 737, 'adown': 738, 'gorgeous': 739, 'vista': 740, 'cannot': 741, 'aright': 742, 'didnt': 743, 'relish': 744, 'first': 745, 'invested': 746, 'reasons': 747, 'telling': 748, 'sigh': 749, 'blotting': 750, 'utterly': 751, 'heaven': 752, 'nor': 753, 'thinking': 754, 'looked': 755, 'toward': 756, 'despite': 757, 'god': 758, 'beasts': 759, 'sake': 760, 'cloud': 761, 'swollen': 762, 'tight': 763, 'buried': 764, 'snow': 765, 'stardials': 766, 'hinted': 767, 'morn': 768, 'own': 769, 'power': 770, 'seems': 771, 'undone': 772, 'raised': 773, 'voice': 774, 'closing': 775, 'folks': 776, 'day': 777, 'given': 778, 'plain': 779, 'speaking': 780, 'talkedof': 781, 'mystery': 782, 'birth': 783, 'dunnow': 784, 'garden': 785, 'alder': 786, 'swamp': 787, 'theirs': 788, 'interlock': 789, 'streams': 790, 'turrets': 791, 'silently': 792, 'desperate': 793, 'energy': 794, 't': 795, 'beaten': 796, 'merrily': 797, 'lair': 798, 'lavas': 799, 'restlessly': 800, 'piano': 801, 'loudly': 802, 'playing': 803, 'suddenly': 804, 'flung': 805, 'wide': 806, 'wont': 807, 'ghoulhaunted': 808, 'woodland': 809, 'weir': 810, 'childishness': 811, 'makebelieve': 812, 'attempting': 813, 'stray': 814, 'lifelike': 815, 'posture': 816, 'swarm': 817, 'gnaw': 818, 'trees': 819, 'fences': 820, 'shudder': 821, 'notes': 822, 'psyche': 823, 'dreams': 824, 'therein': 825, 'knows': 826, 'ah': 827, 'safely': 828, 'gleaming': 829, 'train': 830, 'liked': 831, 'let': 832, 'vacuum': 833, 'filmy': 834, 'perhaps': 835, 'claim': 836, 'always': 837, 'hudsons': 838, 'bay': 839, 'point': 840, 'published': 841, 'riches': 842, 'lie': 843, 'unembodied': 844, 'essence': 845, 'written': 846, 'sweet': 847, 'sister': 848, 'owe': 849, 'most': 850, 'gratitude': 851, 'sadly': 852, 'mistrust': 853, 'lighting': 854, 'lonely': 855, 'pathway': 856, 'names': 857, 'joe': 858, 'asked': 859, 'desolately': 860, 'fall': 861, 'chimney': 862, 'serve': 863, 'remind': 864, 'gone': 865, 'blandishments': 866, 'seem': 867, 'defied': 868, 'boys': 869, 'hunters': 870, 'pointed': 871, 'doubling': 872, 'redoubling': 873, 'song': 874, 'twitter': 875, 'himself': 876, 'driven': 877, 'wet': 878, 'ask': 879, 'mistake': 880, 'mist': 881, 'strange': 882, 'wonted': 883, 'besides': 884, 'dew': 885, 'nighttime': 886, 'small': 887, 'fist': 888, 'bushy': 889, 'dank': 890, 'tarn': 891, 'auber': 892, 'quite': 893, 'ones': 894, 'secret': 895, 'communing': 896, 'apple': 897, 'bark': 898, 'senescent': 899, 'put': 900, 'foot': 901, 'without': 902, 'avail': 903, 'made': 904, 'sudden': 905, 'movement': 906, 'bodice': 907, 'lantern': 908, 'drop': 909, 'noon': 910, 'storm': 911, 'trance': 912, 'withdrawing': 913, 'rid': 914, 'believe': 915, 'hours': 916, 'daylight': 917, 'gather': 918, 'atmosphere': 919, 'pole—': 920, 'hoary': 921, 'groans': 922, 'sill': 923, 'huh': 924, 'bathtub': 925, 'highest': 926, 'family': 927, 'troubles': 928, 'lo': 929, 'reard': 930, 'throne': 931, 'abode': 932, 'might': 933, 'herself': 934, 'best': 935, 'threw': 936, 'myself': 937, 'wetelbowed': 938, 'wetkneed': 939, 'cottages': 940, 'found': 941, 'strangely': 942, 'anything': 943, 'wish': 944, 'minute': 945, 'tin': 946, 'box': 947, 'cupboard': 948, 'shelf': 949, 'scarce': 950, 'prize': 951, 'laugh': 952, 'smile': 953, 'died': 954, 'venuses': 955, 'unextinguished': 956, 'darkest': 957, 'ridgepole': 958, 'stride': 959, 'broomstick': 960, 'floor': 961, 'tending': 962, 'fair': 963, 'son': 964, 'mothers': 965, 'pushed': 966, 'softmurmured': 967, 'fulfilled': 968, 'saved': 969, 'endless': 970, 'theme': 971, 'praise': 972, 'fond': 973, 'nice': 974, 'blew': 975, 'icy': 976, 'crust': 977, 'guess': 978, 'youd': 979, 'fountain': 980, 'empty': 981, 'right': 982, 'waters': 983, 'watering': 984, 'place': 985, 'tumultuous': 986, 'sea': 987, 'wentworth': 988, 'fireweed': 989, 'loving': 990, 'burnt': 991, 'finished': 992, 'bedroom': 993, 'sorry': 994, 'full': 995, 'lank': 996, 'shivery': 997, 'halfdrowned': 998, 'birds': 999, 'sitting': 1000, 'brought': 1001, 'publisher': 1002, 'upstairs': 1003, 'love': 1004, 'simple': 1005, 'duty': 1006, 'someones': 1007, 'work': 1008, 'faintest': 1009, 'restless': 1010, 'rustling': 1011, 'ran': 1012, 'raises': 1013, 'softly': 1014, 'double': 1015, 'watch': 1016, 'theyd': 1017, 'drag': 1018, 'beyond': 1019, 'stretch': 1020, 'feat': 1021, 'uplifting': 1022, 'finger': 1023, 'science': 1024, 'true': 1025, 'daughter': 1026, 'thou': 1027, 'art': 1028, 'alias': 1029, 'lurid': 1030, 'coasting': 1031, 'sigmas': 1032, 'taus': 1033, 'politician': 1034, 'odd': 1035, 'seasons': 1036, 'banners': 1037, 'glorious': 1038, 'golden': 1039, 'plagued': 1040, 'rule': 1041, 'arm': 1042, 'suspected': 1043, 'truest': 1044, 'fervently': 1045, 'devoted': 1046, 'idled': 1047, 'rather': 1048, 'tip': 1049, 'table': 1050, 'dwell': 1051, 'neighbour': 1052, 'takes': 1053, 'moon': 1054, 'suns': 1055, 'wizard': 1056, 'glory': 1057, 'melt': 1058, 'start': 1059, 'dormant': 1060, 'tree': 1061, 'vow': 1062, 'ye': 1063, 'deliverers': 1064, 'athens': 1065, 'shame': 1066, 'spare': 1067, 'any': 1068, 'trouble': 1069, 'hesperides': 1070, 'revels': 1071, 'region': 1072, 'sighs': 1073, 'learned': 1074, 'hearts': 1075, 'passion': 1076, 'need': 1077, 'talktalk': 1078, 'springs': 1079, 'transforming': 1080, 'charms': 1081, 'expense': 1082, 'idleness': 1083, 'bet': 1084, 'cribber': 1085, 'picture': 1086, 'screen': 1087, 'barkless': 1088, 'spectre': 1089, 'halted': 1090, 'another': 1091, 'flickers': 1092, 'sky': 1093, 'dignity': 1094, 'mien': 1095, 'kinder': 1096, 'run': 1097, 'coming': 1098, 'quick': 1099, 'slammed': 1100, 'knob': 1101, 'bright': 1102, 'fingerbone': 1103, 'company': 1104, 'outward': 1105, 'bound': 1106, 'pick': 1107, 'flower': 1108, 'suffice': 1109, 'hurt': 1110, 'poem': 1111, 'feet': 1112, 'kind': 1113, 'youll': 1114, 'expecting': 1115, 'pity': 1116, 'built': 1117, 'big': 1118, 'church': 1119, 'organ': 1120, 'radiant': 1121, 'extravagance': 1122, 'especially': 1123, 'fill': 1124, 'air': 1125, 'ride': 1126, 'bill': 1127, 'demon': 1128, 'tempted': 1129, 'slap': 1130, 'bird': 1131, 'singing': 1132, 'winds': 1133, 'woo': 1134, 'remembered': 1135, 'among': 1136, 'raspberries': 1137, 'hew': 1138, 'shape': 1139, 'helpless': 1140, 'happens': 1141, 'broken': 1142, 'davis': 1143, 'detail': 1144, 'burned': 1145, 'dissolved': 1146, 'waiting': 1147, 'chill': 1148, 'effect': 1149, 'teased': 1150, 'am': 1151, 'renewed': 1152, 'paint': 1153, 'dalton': 1154, 'someday': 1155, 'fortune': 1156, 'lingered': 1157, 'brown': 1158, 'tall': 1159, 'headed': 1160, 'for—': 1161, 'scoriac': 1162, 'rivers': 1163, 'gives': 1164, 'harness': 1165, 'shake': 1166, 'celebrating': 1167, 'outdoors': 1168, 'fear': 1169, 'treading': 1170, 'conquered': 1171, 'scruples': 1172, 'gloom': 1173, 'ice': 1174, 'clothes': 1175, 'flight': 1176, 'skiff': 1177, 'owned': 1178, 'solid': 1179, 'mica': 1180, 'natures': 1181, 'green': 1182, 'worry': 1183, 'strain': 1184, 'rare': 1185, 'flowers': 1186, 'blow': 1187, 'twice': 1188, 'statement': 1189, 'relationship': 1190, 'fervid': 1191, 'flickering': 1192, 'torch': 1193, 'lit': 1194, 'happy': 1195, 'clime': 1196, 'fell': 1197, 'upturnd': 1198, 'houses': 1199, 'stark': 1200, 'gathered': 1201, 'bow': 1202, 'saddest': 1203, 'lane': 1204, 'creaking': 1205, 'buggy': 1206, 'load': 1207, 'grain': 1208, 'prospect': 1209, 'terminates': 1210, 'spoke': 1211, 'clock': 1212, 'rapid': 1213, 'pleiads': 1214, 'truth': 1215, 'buy': 1216, 'smiled': 1217, 'parterre': 1218, 'enchanted': 1219, 'discordant': 1220, 'roads': 1221, 'diverged': 1222, 'wood': 1223, 'ready': 1224, 'outsiders': 1225, 'warmer': 1226, 'dian': 1227, 'sybilic': 1228, 'splendor': 1229, 'beaming': 1230, 'likeness': 1231, 'surprise': 1232, 'thrilly': 1233, 'tourist': 1234, 'remoteness': 1235, 'told': 1236, 'crisped': 1237, 'papered': 1238, 'walls': 1239, 'pallor': 1240, 'earnest': 1241, 'appears': 1242, 'looks': 1243, 'heard': 1244, 'themselves': 1245, 'forgive': 1246, 'heat': 1247, 'slowly': 1248, 'hazes': 1249, 'hell': 1250, 'sort': 1251, 'swear': 1252, 'away': 1253, 'awful': 1254, 'earlier': 1255, 'climb': 1256, 'slippery': 1257, 'slope': 1258, 'byroad': 1259, 'money': 1260, 'creases': 1261, 'wrought': 1262, 'breath': 1263, 'loved': 1264, 'object': 1265, 'tear': 1266, 'lid': 1267, 'lutes': 1268, 'welltuned': 1269, 'law': 1270, 'rattle': 1271, 'dangle': 1272, 'raspberry': 1273, 'vines': 1274, 'legended': 1275, 'tomb': 1276, 'break': 1277, 'job': 1278, 'kept': 1279, 'years': 1280, 'ourselves': 1281, 'farmhouse': 1282, 'sos': 1283, 'comfort': 1284, 'sew': 1285, 'arms': 1286, 'level': 1287, 'hearthistories': 1288, 'seemed': 1289, 'enwritten': 1290, 'different': 1291, 'curl': 1292, 'unfortunately': 1293, 'january': 1294, 'thaw': 1295, 'harmless': 1296, 'hears': 1297, 'shine': 1298, 'unhouse': 1299, 'bent': 1300, 'undergrowth': 1301, 'wheres': 1302, 'voted': 1303, 'future': 1304, 'strangeness': 1305, 'ten': 1306, 'million': 1307, 'lizards': 1308, 'united': 1309, 'strengths': 1310, 'miraculous': 1311, 'crescent': 1312, 'o': 1313, 'hyacinthine': 1314, 'isle': 1315, 'purple': 1316, 'zante': 1317, 'craters': 1318, 'verge': 1319, 'standing': 1320, 'glimpse': 1321, 'curtain': 1322, 'laces': 1323, 'lord': 1324, 'dream': 1325, 'everyone': 1326, 'nights': 1327, 'kiting': 1328, 'reply': 1329, 'hers': 1330, 'intelligence': 1331, 'fervour': 1332, 'smash': 1333, 'angel': 1334, 'israfel': 1335, 'twenty': 1336, 'cock': 1337, 'twentyfive': 1338, 'fountains': 1339, 'overflow': 1340, 'towers': 1341, 'thrown': 1342, 'aside': 1343, 'ages': 1344, 'cherish': 1345, 'fame': 1346, 'throats': 1347, 'happier': 1348, 'bush': 1349, 'peas': 1350, 'water': 1351, 'spring': 1352, 'birch': 1353, 'boughs': 1354, 'piled': 1355, 'everywhere—': 1356, 'carried': 1357, 'itself': 1358, 'pile': 1359, 'dishes': 1360, 'farm': 1361, 'color': 1362, 'music': 1363, 'chance': 1364, 'changed': 1365, 'garlands': 1366, 'ended': 1367, 'utter': 1368, 'spells': 1369, 'idols': 1370, 'diamond': 1371, 'eye': 1372, 'creation': 1373, 'seven': 1374, 'shifted': 1375, 'newcut': 1376, 'narrow': 1377, 'gap': 1378, 'fraught': 1379, 'misty': 1380, 'mid': 1381, 'steered': 1382, 'really': 1383, 'straight': 1384, 'beaded': 1385, 'fur': 1386, 'dwelt': 1387, 'pendulous': 1388, 'estelles': 1389, 'moving': 1390, 'flock': 1391, 'hens': 1392, 'sunshine': 1393, 'yawning': 1394, 'lenses': 1395, 'places': 1396, 'bleak': 1397, 'wants': 1398, 'keep': 1399, 'fathers': 1400, 'doesnt': 1401, 'selfclear': 1402, 'gale': 1403, 'hast': 1404, 'dragged': 1405, 'diana': 1406, 'car': 1407, 'terror': 1408, 'letting': 1409, 'sink': 1410, 'sproutlands': 1411, 'flourish': 1412, 'axe': 1413, 'room': 1414, 'brush': 1415, 'crooked': 1416, 'stroke': 1417, 'boy': 1418, 'palace': 1419, 'common': 1420, 'rear': 1421, 'warriors': 1422, 'unknown': 1423, 'foe': 1424, 'well—i—be—': 1425, 'waves': 1426, 'tamed': 1427, 'primeval': 1428, 'achilles': 1429, 'diomed': 1430, 'rest': 1431, 'dite': 1432, 'angels': 1433, 'lady': 1434, 'holy': 1435, 'rays': 1436, 'closes': 1437, 'suppose': 1438, 'deserves': 1439, 'shelter': 1440, 'reeled': 1441, 'lurched': 1442, 'bobbed': 1443, 'checked': 1444, 'verified': 1445, 'next': 1446, 'morning': 1447, 'introduce': 1448, 'people': 1449, 'present': 1450, 'silent': 1451, 'story': 1452, 'book': 1453, 'resurrection': 1454, 'deepburied': 1455, 'faith': 1456, 'cried': 1457, 'surely': 1458, 'october': 1459, 'ralle': 1460, 'sioux': 1461, 'control': 1462, 'boss': 1463, 'miss': 1464, 'below': 1465, 'roared': 1466, 'hidden': 1467, 'fulllength': 1468, 'instep': 1469, 'arch': 1470, 'eden': 1471, 'oclock': 1472, 'alterest': 1473, 'peering': 1474, 'lifts': 1475, 'gaunt': 1476, 'luxuriating': 1477, 'beast': 1478, 'lot': 1479, 'aroused': 1480, 'gained': 1481, 'foothold': 1482, 'pursued': 1483, 'ryans': 1484, 'hill': 1485, 'twas': 1486, 'tent': 1487, 'grove': 1488, 'orchard': 1489, 'mountains': 1490, 'farmer': 1491, 'blaming': 1492, 'easy': 1493, 'downy': 1494, 'flake': 1495, 'swellings': 1496, 'hint': 1497, 'fabric': 1498, 'poetess': 1499, 'sighed': 1500, 'sound': 1501, 'silence': 1502, 'joy': 1503, 'wo': 1504, 'woman': 1505, 'afterward': 1506, 'difference': 1507, 'affairs': 1508, 'stopped': 1509, 'enter': 1510, 'beneath': 1511, 'tamarind': 1512, 'melancholy': 1513, 'marshall': 1514, 'look': 1515, 'donkeys': 1516, 'ears': 1517, 'blanket': 1518, 'glide': 1519, 'struck': 1520, 'recognize': 1521, 'yield': 1522, 'feeling': 1523, 'isnt': 1524, 'arent': 1525, 'afraid': 1526, 'halfpast': 1527, 'stamped': 1528, 'moosilauke': 1529, 'signs': 1530, 'nine': 1531, 'removed': 1532, 'correct': 1533, 'err': 1534, 'whir': 1535, 'stillgoing': 1536, 'joints': 1537, 'stake': 1538, 'wanderers': 1539, 'henry': 1540, 'use': 1541, 'lets': 1542, 'trap': 1543, 'worlds': 1544, 'arthur': 1545, 'amy': 1546, 'mine': 1547, 'begin': 1548, 'shed': 1549, 'fine': 1550, 'fibrils': 1551, 'winged': 1552, 'odour': 1553, 'courage': 1554, 'send': 1555, 'sailing': 1556, 'window': 1557, 'weeks': 1558, 'turns': 1559, 'deareye': 1560, 'beloved': 1561, 'heroes': 1562, 'deathless': 1563, 'roam': 1564, 'bowed': 1565, 'natural': 1566, 'theyll': 1567, 'whole': 1568, 'hades': 1569, 'thousand': 1570, 'thrones': 1571, 'maintained': 1572, 'denied': 1573, 'surer': 1574, 'witch': 1575, 'leak': 1576, 'emptied': 1577, 'forty': 1578, 'bare': 1579, 'legs': 1580, 'inscription': 1581, 'wall': 1582, 'unearthed': 1583, 'potatoes': 1584, 'farmers': 1585, 'chandelier': 1586, 'whirling': 1587, 'frenzies': 1588, 'shatter': 1589, 'inward': 1590, 'unswept': 1591, 'floors': 1592, 'skeleton': 1593, 'signify': 1594, 'cars': 1595, 'bottle': 1596, 'mortgage': 1597, 'bandmusic': 1598, 'salt': 1599, 'wherewith': 1600, 'theyre': 1601, 'salted': 1602, 'warn': 1603, 'replied': 1604, 'dreaming': 1605, 'acquaintance': 1606, 'adventurously': 1607, 'cool': 1608, 'shining': 1609, 'care': 1610, 'writer': 1611, 'lines': 1612, 'fly': 1613, 'grandsir': 1614, 'swept': 1615, 'heavens': 1616, 'turning': 1617, 'heel': 1618, 'gems': 1619, 'cross': 1620, 'lots': 1621, 'sometime': 1622, 'listened': 1623, 'slightly': 1624, 'sinking': 1625, 'dull': 1626, 'berries': 1627, 'scarlet': 1628, 'red': 1629, 'weep': 1630, 'glad': 1631, 'harm': 1632, 'news': 1633, 'dreadful': 1634, 'fool': 1635, 'overflowing': 1636, 'plenty': 1637, 'shoes': 1638, 'primped': 1639, 'dance': 1640, 'distinct': 1641, 'henceforth': 1642, 'flowerenameled': 1643, 'shore': 1644, 'rolls': 1645, 'ether': 1646, 'meet': 1647, 'weather': 1648, 'breathing': 1649, 'isles': 1650, 'blest': 1651, 'anywhere': 1652, 'fast': 1653, 'wherever': 1654, 'low': 1655, 'goes': 1656, 'brittle': 1657, 'same': 1658, 'seize': 1659, 'catscradle': 1660, 'trapper': 1661, 'fervor': 1662, 'step': 1663, 'awake': 1664, 'hog': 1665, 'reeve': 1666, 'march': 1667, 'meeting': 1668, 'warren': 1669, 'lay': 1670, 'violin': 1671, 'enamored': 1672, 'inquired': 1673, 'proof': 1674, 'fingerpieces': 1675, 'slid': 1676, 'directions': 1677, 'mortal': 1678, 'downstairs': 1679, 'wrote': 1680, 'verses': 1681, 'cane': 1682, 'knock': 1683, 'for—montreal': 1684, 'short': 1685, 'showed': 1686, 'used': 1687, 'sing': 1688, 'toteroad': 1689, 'havent': 1690, 'head': 1691, 'spin': 1692, 'immemorial': 1693, 'however': 1694, 'yours': 1695, 'needed': 1696, 'expired': 1697, 'noted': 1698, 'remembering': 1699, 'bathe': 1700, 'crystalline': 1701, 'confusion': 1702, 'muffled': 1703, 'ere': 1704, 'deal': 1705, 'masonry': 1706, 'mighty': 1707, 'neednt': 1708, 'content': 1709, 'budinspecting': 1710, 'presume': 1711, 'size': 1712, 'burden': 1713, 'infant': 1714, 'astride': 1715, 'fight': 1716, 'desert': 1717, 'tried': 1718, 'dropped': 1719, 'mask': 1720, 'viol': 1721, 'vine': 1722, 'heartstrings': 1723, 'lute': 1724, 'fairest': 1725, 'sculturd': 1726, 'ivy': 1727, 'nodded': 1728, 'free': 1729, 'kick': 1730, 'luminary': 1731, 'ridgely': 1732, 'torrence': 1733, 'passport': 1734, 'branch': 1735, 'cellarstairs': 1736, 'spirits': 1737, 'musically': 1738, 'timber': 1739, 'smith': 1740, 'called': 1741, 'moonlit': 1742, 'cliff': 1743, 'painted': 1744, 'despairs': 1745, 'unhallowed': 1746, 'surpassing': 1747, 'eightyfive': 1748, 'repining': 1749, 'amys': 1750, 'smarty': 1751, 'celestial': 1752, 'spheres': 1753, 'magical': 1754, 'sad': 1755, 'saint': 1756, 'says': 1757, 'domes': 1758, 'spires': 1759, 'kingly': 1760, 'halls': 1761, 'clasps': 1762, 'laughed': 1763, 'virtue': 1764, 'humanity': 1765, 'yard': 1766, 'landing': 1767, 'amid': 1768, 'moans': 1769, 'elfin': 1770, 'reconnoitre': 1771, 'entablatures': 1772, 'intertwine': 1773, 'otherwise': 1774, 'revolving': 1775, 'scene': 1776, 'burning': 1777, 'measures': 1778, 'suit': 1779, 'dimremembered': 1780, 'technical': 1781, 'cards': 1782, 'adoring': 1783, 'airs': 1784, 'sanctified': 1785, 'elysian': 1786, 'truly': 1787, 'lizard': 1788, 'ray': 1789, 'coat': 1790, 'seated': 1791, 'agony': 1792, 'sobbed': 1793, 'tinkling': 1794, 'text': 1795, 'bidden': 1796, 'twothousandmile': 1797, 'coast': 1798, 'stay': 1799, 'scenes': 1800, 'departed': 1801, 'bliss': 1802, 'cased': 1803, 'edition': 1804, 'packing': 1805, 'frogs': 1806, 'peeping': 1807, 'shrill': 1808, 'walked': 1809, 'woes': 1810, 'river': 1811, 'stands': 1812, 'caught': 1813, 'opening': 1814, 'covers': 1815, 'lately': 1816, 'slept': 1817, 'apathy': 1818, 'fanes': 1819, 'babylonlike': 1820, 'anyway': 1821, 'tells': 1822, 'motionless': 1823, 'reckon': 1824, 'cousinship': 1825, 'black': 1826, 'doubted': 1827, 'imbued': 1828, 'early': 1829, 'leafs': 1830, 'strains': 1831, 'seriously': 1832, 'bearings': 1833, 'swift': 1834, 'baptismal': 1835, 'font': 1836, 'wearing': 1837, 'crown': 1838, 'broadboard': 1839, 'paneling': 1840, 'member': 1841, 'warm': 1842, 'taken': 1843, 'thus': 1844, 'clad': 1845, 'white': 1846, 'violet': 1847, 'wouldst': 1848, 'wandering': 1849, 'plunged': 1850, 'tyrant': 1851, 'steel': 1852, 'jerk': 1853, 'twitch': 1854, 'pure': 1855, 'orbs': 1856, 'learn': 1857, 'consideration': 1858, 'blame': 1859, 'seraphic': 1860, 'glancing': 1861, 'wishing': 1862, 'somewhere': 1863, 'hence': 1864, 'shut': 1865, 'lived': 1866, 'redder': 1867, 'glow': 1868, 'ours': 1869, 'likely': 1870, 'regard': 1871, 'serial': 1872, 'ordeal': 1873, 'weak': 1874, 'solemn': 1875, 'peals': 1876, 'provision': 1877, 'alls': 1878, 'dallied': 1879, 'trod': 1880, 'neer': 1881, 'flow': 1882, 'means': 1883, 'caves': 1884, 'empurpled': 1885, 'vapors': 1886, 'novelty': 1887, 'wasted': 1888, 'smart': 1889, 'pumps': 1890, 'beading': 1891, 'spend': 1892, 'four': 1893, 'literally': 1894, 'trembled': 1895, 'stirred': 1896, 'spoiled': 1897, 'thrilling': 1898, 'loveless': 1899, 'purse': 1900, 'whod': 1901, 'marry': 1902, 'mess': 1903, 'kinsman': 1904, 'slight': 1905, 'demand': 1906, 'felt': 1907, 'tug': 1908, 'tail': 1909, 'listen': 1910, 'levin': 1911, 'destination': 1912, 'destinys': 1913, 'wilderness': 1914, 'instant': 1915, 'disappeared': 1916, 'strength': 1917, 'subdued': 1918, 'sovereignty': 1919, 'ancient': 1920, 'lore': 1921, 'chains': 1922, 'pearl': 1923, 'hermon': 1924, 'heavy': 1925, 'iron': 1926, 'western': 1927, 'couch': 1928, 'thundercloud': 1929, 'heres': 1930, 'hoping': 1931, 'drink': 1932, 'sancta': 1933, 'maria': 1934, 'burns': 1935, 'sunny': 1936, 'cheek': 1937, 'eve': 1938, 'untidy': 1939, 'part': 1940, 'splinters': 1941, 'signals': 1942, 'unthoughtlike': 1943, 'cousins': 1944, 'ledges': 1945, 'ruled': 1946, 'southeastnorthwest': 1947, 'oldbelievers': 1948, 'talking': 1949, 'tower': 1950, 'tho': 1951, 'godliness': 1952, 'cottage': 1953, 'spot': 1954, 'race': 1955, 'auk': 1956, 'sparkling': 1957, 'evermore': 1958, 'aftermath': 1959, 'facts': 1960, 'snapped': 1961, 'cheering': 1962, 'dialect': 1963, 'wait': 1964, 'chose': 1965, 'meddle': 1966, 'skulls': 1967, 'rogers': 1968, 'rangers': 1969, 'harpstring': 1970, 'shook': 1971, 'iles': 1972, 'course': 1973, 'suspect': 1974, 'sure': 1975, 'hiding': 1976, 'silverysilken': 1977, 'veil': 1978, 'fervent': 1979, 'prayer': 1980, 'humble': 1981, 'chisel': 1982, 'enormous': 1983, 'glacier': 1984, 'wantonest': 1985, 'plumes': 1986, 'month': 1987, 'crib': 1988, 'sures': 1989, 'born': 1990, 'ideas': 1991, 'vision': 1992, 'itd': 1993, 'position': 1994, 'stronger': 1995, 'palsied': 1996, 'repeatedly': 1997, 'strove': 1998, 'age': 1999, 'realms': 2000, 'boreal': 2001, 'tremulous': 2002, 'verdant': 2003, 'slopes': 2004, 'hourly': 2005, 'aglitter': 2006, 'smother': 2007, 'serenest': 2008, 'continually': 2009, 'gushing': 2010, 'alive': 2011, 'tote': 2012, 'clearing': 2013, 'merry': 2014, 'captains': 2015, 'hideous': 2016, 'throng': 2017, 'rush': 2018, 'forever': 2019, 'en': 2020, 'masse': 2021, 'deem': 2022, 'wise': 2023, 'hid': 2024, 'sulphurous': 2025, 'currents': 2026, 'particular': 2027, 'pay': 2028, 'ramparts': 2029, 'plumed': 2030, 'pallid': 2031, 'crosslegged': 2032, 'motorcars': 2033, 'resignedly': 2034, 'liquescent': 2035, 'write': 2036, 'suggest': 2037, 'ecstasies': 2038, 'sees': 2039, 'backs': 2040, 'serious': 2041, 'shelfs': 2042, 'vase': 2043, 'runs': 2044, 'unbridled': 2045, 'unblanketed': 2046, 'rests': 2047, 'threatener': 2048, 'uncertain': 2049, 'build': 2050, 'clear': 2051, 'almost': 2052, 'virgin': 2053, 'stampede': 2054, 'shrines': 2055, 'palaces': 2056, 'becoming': 2057, 'reconciled': 2058, 'didst': 2059, 'remained': 2060, 'climbed': 2061, 'famous': 2062, 'except': 2063, 'poetesss': 2064, 'poems': 2065, 'pale': 2066, 'viola': 2067, 'follow': 2068, 'torn': 2069, 'naiad': 2070, 'flood': 2071, 'pauses': 2072, 'root': 2073, 'pit': 2074, 'digged': 2075, 'nailed': 2076, 'courts': 2077, 'undivided': 2078, 'smoothlaid': 2079, 'thatch': 2080, 'halfway': 2081, 'footsteps': 2082, 'outer': 2083, 'windowsill': 2084, 'chases': 2085, 'lowes': 2086, 'baileys': 2087, 'luminous': 2088, 'laid': 2089, 'walk': 2090, 'dryshod': 2091, 'faster': 2092, 'slower': 2093, 'chanced': 2094, 'lipbegotten': 2095, 'keeps': 2096, 'cash': 2097, 'hands': 2098, 'tended': 2099, 'shouting': 2100, 'interest': 2101, 'clara': 2102, 'robinson': 2103, 'safe': 2104, 'hoed': 2105, 'yesterday': 2106, 'grandchildren': 2107, 'zealous': 2108, 'laborious': 2109, 'device': 2110, 'second': 2111, 'curving': 2112, 'hillside': 2113, 'filled': 2114, 'albeit': 2115, 'soared': 2116, 'undaunted': 2117, 'wing': 2118, 'shrine': 2119, 'fancied': 2120, 'six': 2121, 'baby': 2122, 'journeyed': 2123, 'post': 2124, 'founts': 2125, 'hands—': 2126, 'storms': 2127, 'oercast': 2128, 'help': 2129, 'ministers': 2130, 'slave': 2131, 'deliverance': 2132, 'pocket': 2133, 'ocean': 2134, 'throbbing': 2135, 'abysses': 2136, 'gentlest': 2137, 'dost': 2138, 'pearly': 2139, 'lustre': 2140, 'stove': 2141, 'symbol': 2142, 'token': 2143, 'starry': 2144, 'choir': 2145, 'planets': 2146, 'several': 2147, 'dig': 2148, 'shattered': 2149, 'seedpod': 2150, 'astartes': 2151, 'bediamonded': 2152, 'according': 2153, 'risk': 2154, 'travel': 2155, 'angelic': 2156, 'gift': 2157, 'setting': 2158, 'traps': 2159, 'raining': 2160, 'cake': 2161, 'mebbe': 2162, 'broke': 2163, 'suspicious': 2164, 'robinsons': 2165, 'sinners': 2166, 'sacrifice': 2167, 'windows': 2168, 'helping': 2169, 'legitimately': 2170, 'upturned': 2171, 'seraph': 2172, 'harper': 2173, 'featherhammer': 2174, 'rock': 2175, 'belilaced': 2176, 'lying': 2177, 'forward': 2178, 'weakly': 2179, 'handrail': 2180, 'everywhere': 2181, 'set': 2182, 'trembling': 2183, 'wire': 2184, 'wrapper': 2185, 'leg': 2186, 'crutch': 2187, 'watchman': 2188, 'beat': 2189, 'trying': 2190, 'carry—if': 2191, 'indians': 2192, 'myth': 2193, 'chicamoztoc': 2194, 'elsewhere': 2195, 'impulse': 2196, 'th': 2197, 'expanding': 2198, 'werent': 2199, 'ripples': 2200, 'ghost—': 2201, 'happen': 2202, 'prefer': 2203, 'buttons': 2204, 'poured': 2205, 'lap': 2206, 'absence': 2207, 'fête': 2208, 'blend': 2209, 'shadows': 2210, 'rockstrewn': 2211, 'farming': 2212, 'fallen': 2213, 'gods': 2214, 'viewing': 2215, 'nature': 2216, 'ghastly': 2217, 'fullorbed': 2218, 'soaring': 2219, 'lifting': 2220, 'forgot': 2221, 'nausicaa': 2222, 'unafraid': 2223, 'tangle': 2224, 'withered': 2225, 'weeds': 2226, 'staid': 2227, 'wit': 2228, 'wisdom': 2229, 'king': 2230, 'bakeshop': 2231, 'meals': 2232, 'adding': 2233, 'frost': 2234, 'lupine': 2235, 'sand': 2236, 'drouth': 2237, 'warrens': 2238, 'towns': 2239, 'beadwork': 2240, 'wander': 2241, 'sadder': 2242, 'favour': 2243, 'graveyard': 2244, 'marble': 2245, 'sculpture': 2246, 'lyre': 2247, 'doorsill': 2248, 'corner': 2249, 'piece': 2250, 'cedar': 2251, 'waterside': 2252, 'nowhere': 2253, '‘tis': 2254, 'wreathed': 2255, 'myrtle': 2256, 'sword': 2257, 'conceal': 2258, 'bard': 2259, 'wisest': 2260, 'queer': 2261, 'flew': 2262, 'brightly': 2263, 'converging': 2264, 'slides': 2265, 'avalanches': 2266, 'quarrel': 2267, 'riddle': 2268, 'genealogy': 2269, 'sat': 2270, 'listening': 2271, 'judgment': 2272, 'wriggling': 2273, 'speed': 2274, 'bulkhead': 2275, 'doubledoors': 2276, 'doublelocked': 2277, 'saturn': 2278, 'mars': 2279, 'bade': 2280, 'pause': 2281, 'gardengate': 2282, 'flying': 2283, 'speel': 2284, 'picking': 2285, 'faded': 2286, 'tumble': 2287, 'stricken': 2288, 'rustle': 2289, 'rushes': 2290, 'pull': 2291, 'ladder': 2292, 'mourn': 2293, 'morrow': 2294, 'subsides': 2295, 'troop': 2296, 'echoes': 2297, 'grow': 2298, 'mosses': 2299, 'read': 2300, 'field': 2301, 'sunday': 2302, 'ancestral': 2303, 'ceasing': 2304, 'hymns': 2305, 'attend': 2306, 'troubling': 2307, 'remaining': 2308, 'aster': 2309, 'darkly': 2310, 'playhouse': 2311, 'lest': 2312, 'truant': 2313, 'seats': 2314, 'avengers': 2315, 'libertys': 2316, 'wrongs': 2317, 'perfumed': 2318, 'sense': 2319, 'poetry': 2320, 'presence': 2321, '2o3': 2322, 'giddy': 2323, 'legends': 2324, 'whatever': 2325, 'cost': 2326, 'apiece': 2327, 'pound': 2328, 'wildly': 2329, 'blushes': 2330, 'lettered': 2331, 'authority': 2332, 'scuttled': 2333, 'moment': 2334, 'hymn': 2335, 'buds': 2336, 'bloom': 2337, 'stones': 2338, 'bushes': 2339, 'unretrieved': 2340, 'apart': 2341, 'office': 2342, 'illumine': 2343, 'enkindle': 2344, 'decently': 2345, 'refuse': 2346, 'watches': 2347, 'sank': 2348, 'grief': 2349, 'throve': 2350, 'simply': 2351, 'direct': 2352, 'summoning': 2353, 'button': 2354, 'lofty': 2355, 'feather': 2356, 'cosmic': 2357, 'motes': 2358, 'pieces': 2359, 'unimpassioned': 2360, 'hail': 2361, 'length': 2362, 'sight': 2363, 'lean': 2364, 'ranged': 2365, 'island': 2366, 'fence': 2367, 'range': 2368, 'strapping': 2369, 'hamadryad': 2370, 'johnjoe': 2371, 'nonsense': 2372, 'nose': 2373, 'chin': 2374, 'rode': 2375, 'vast': 2376, 'wheels': 2377, 'pacified': 2378, 'kissed': 2379, 'flattered': 2380, 'fighting': 2381, 'improve': 2382, 'tile': 2383, 'library': 2384, 'neck': 2385, 'meridian': 2386, 'glare': 2387, 'partial': 2388, 'greatgrandmother': 2389, 'stained': 2390, 'vegetation': 2391, 'hawks': 2392, 'chickentime': 2393, 'shadow': 2394, 'perfect': 2395, 'acquainted': 2396, 'fathomless': 2397, 'capacity': 2398, 'intense': 2399, 'lonesome': 2400, 'pride': 2401, 'ancestry': 2402, 'yankees': 2403, 'turrettops': 2404, 'budded': 2405, 'polish': 2406, 'watched': 2407, 'holes': 2408, 'laurels': 2409, 'belong': 2410, 'plan': 2411, 'gaining': 2412, 'wealth': 2413, 'hang': 2414, 'wonderful': 2415, 'danger': 2416, 'loss': 2417, 'outspread': 2418, 'mowing': 2419, 'gailyjewelld': 2420, 'bearing': 2421, 'counting': 2422, 'dinners': 2423, 'headshake': 2424, 'peoples': 2425, 'daughters': 2426, 'grannys': 2427, 'imagine': 2428, 'breeder': 2429, 'loves': 2430, 'grownup': 2431, 'resurrected': 2432, 'rivulets': 2433, 'fiftyfive': 2434, 'ungodly': 2435, 'sold': 2436, 'original': 2437, 'rage': 2438, 'few': 2439, 'thrive': 2440, 'rocks': 2441, 'waterfall': 2442, 'israfelis': 2443, 'hurry': 2444, 'unhitch': 2445, 'doubts': 2446, 'axis': 2447, 'closed': 2448, 'reared': 2449, 'strung': 2450, 'hair': 2451, 'owing': 2452, 'became': 2453, 'man—': 2454, 'tenanted': 2455, 'baubles': 2456, 'hasten': 2457, 'linger': 2458, 'exist': 2459, 'timeeaten': 2460, 'tremble': 2461, 'excitement': 2462, 'pace': 2463, 'builder': 2464, 'building': 2465, 'bowers': 2466, 'whereat': 2467, 'higher': 2468, 'cared': 2469, 'tempt': 2470, 'roof': 2471, 'float': 2472, 'alight': 2473, 'greatly': 2474, 'hay': 2475, 'rained': 2476, 'bland': 2477, 'repose': 2478, 'shoeing': 2479, 'temptation': 2480, 'childrens': 2481, 'distinctly': 2482, 'crooking': 2483, 'trillium': 2484, 'victories': 2485, 'italian': 2486, 'tones': 2487, 'murmured': 2488, 'pretend': 2489, 'whether': 2490, 'thence': 2491, 'sprung': 2492, 'numerous': 2493, 'tribe': 2494, 'settle': 2495, 'eternal': 2496, 'gourd': 2497, 'grape': 2498, 'luxuriant': 2499, 'real': 2500, 'satisfy': 2501, 'counts': 2502, 'ideals': 2503, 'obscured': 2504, 'studying': 2505, 'drinking': 2506, 'goblet': 2507, 'grail': 2508, 'mormon': 2509, 'settlement': 2510, 'unwilling': 2511, 'explain': 2512, 'traveler': 2513, 'bluebells': 2514, 'gracing': 2515, 'tunnel': 2516, 'mouth': 2517, 'mounted': 2518, 'longforgotten': 2519, 'isola': 2520, 'doro': 2521, 'fior': 2522, 'di': 2523, 'levante': 2524, 'dawn': 2525, 'strolled': 2526, 'thither': 2527, 'push': 2528, 'happened': 2529, 'nebulous': 2530, 'eddy': 2531, 'toppling': 2532, 'admiring': 2533, 'universal': 2534, 'serene': 2535, 'ruler': 2536, 'realm': 2537, 'assailed': 2538, 'monarchs': 2539, 'estate': 2540, 'country': 2541, 'mute': 2542, 'sweetly': 2543, 'scintillant': 2544, 'accept': 2545, 'substitute': 2546, 'sleeping': 2547, 'hopes': 2548, 'french': 2549, 'indian': 2550, 'esquimaux': 2551, 'abouncing': 2552, 'pipes': 2553, 'smoking': 2554, 'jug': 2555, 'piercing': 2556, 'uplifted': 2557, 'clouds': 2558, 'trailing': 2559, 'moments': 2560, 'misted': 2561, 'stumps': 2562, 'bleeding': 2563, 'uncommonly': 2564, 'castles': 2565, 'cutting': 2566, 'rouse': 2567, 'wasps': 2568, 'missing': 2569, 'bullets': 2570, 'nowadays': 2571, 'bewitched': 2572, 'reach': 2573, 'goodlooking': 2574, 'picked': 2575, 'fresh': 2576, 'row': 2577, 'hellforleather': 2578, 'late': 2579, 'dyou': 2580, 'person': 2581, 'related': 2582, 'ahead': 2583, 'quarry': 2584, 'blushed': 2585, 'bloomed': 2586, 'sweets': 2587, 'sours': 2588, 'memory': 2589, 'accursed': 2590, 'perish': 2591, 'peckerfretted': 2592, 'sheets': 2593, 'plateglass': 2594, 'familiar': 2595, 'choked': 2596, 'oil': 2597, 'bolder': 2598, 'swell': 2599}\n"
          ]
        }
      ],
      "source": [
        "idx = 1\n",
        "word2idx = {'<unk>' : 0}\n",
        "for text in train_texts:\n",
        "  tokens = text.split()\n",
        "  for tok in tokens:\n",
        "    if tok not in word2idx:\n",
        "      word2idx[tok] = idx\n",
        "      idx += 1\n",
        "print(word2idx)"
      ]
    },
    {
      "cell_type": "code",
      "execution_count": 36,
      "metadata": {
        "id": "C-_raNvwDON3"
      },
      "outputs": [],
      "source": [
        "#convert data into integer format\n",
        "train_text_int = []\n",
        "test_text_int = []\n",
        "\n",
        "for text in train_texts:\n",
        "  tokens = text.split()\n",
        "  train_text_int.append([word2idx[tok] for tok in tokens])\n",
        "\n",
        "for text in test_texts:\n",
        "  tokens = text.split()\n",
        "  test_text_int.append([word2idx.get(tok,0) for tok in tokens])"
      ]
    },
    {
      "cell_type": "code",
      "execution_count": 37,
      "metadata": {
        "colab": {
          "base_uri": "https://localhost:8080/"
        },
        "id": "ZrIgfhdIEEfc",
        "outputId": "2fd17874-4080-4f4f-9a7c-66b0f6cefc2b"
      },
      "outputs": [
        {
          "data": {
            "text/plain": [
              "[[31, 384, 21, 385, 137, 19, 4, 386],\n",
              " [21, 23, 387, 313, 4, 388, 0, 389, 70],\n",
              " [390, 391, 143, 54, 392],\n",
              " [393, 165, 103, 394, 30, 384, 395],\n",
              " [41, 114, 142, 15, 111],\n",
              " [25, 396, 357, 367, 131, 397, 51, 23, 398],\n",
              " [320, 132, 399, 400, 30, 401, 359, 402],\n",
              " [25, 403, 31, 132, 404, 185, 19, 405, 4, 406],\n",
              " [4, 407, 408, 3, 181, 319, 409, 410, 411],\n",
              " [25, 184, 60, 80, 412, 413, 414],\n",
              " [224, 415, 4, 416, 30, 167],\n",
              " [251, 417, 64, 418, 30, 419],\n",
              " [30, 120, 145, 420, 4, 421, 3, 4, 422],\n",
              " [4, 423, 3, 165, 181, 220, 83, 3, 80],\n",
              " [19, 304, 30, 25, 424, 425]]"
            ]
          },
          "execution_count": 37,
          "metadata": {},
          "output_type": "execute_result"
        }
      ],
      "source": [
        "train_text_int[100:115]"
      ]
    },
    {
      "cell_type": "code",
      "execution_count": 38,
      "metadata": {
        "id": "8NM1U5SJEai6"
      },
      "outputs": [],
      "source": [
        "#intialize A and PI matrices - for Both classes\n",
        "V = len(word2idx)\n",
        "A0 = np.ones((V, V)) # for add-one smoothing , initial fake count is 1. therefore np,ones() is used here.\n",
        "PI0 = np.ones(V)\n",
        "\n",
        "A1 = np.ones((V, V))\n",
        "PI1 = np.ones(V)"
      ]
    },
    {
      "cell_type": "code",
      "execution_count": 39,
      "metadata": {
        "id": "NgP3ce3YFHpI"
      },
      "outputs": [],
      "source": [
        "#compute counts for A and PI matrices (putting inside a function so that we can use for both the state transition matrices and initial state distributions A0,A1 and PI0,PI1)\n",
        "def compute_counts(train_text_int, A,PI):\n",
        "  for tokens in train_text_int:\n",
        "    last_index = None\n",
        "    for index in tokens:\n",
        "      if last_index is None:\n",
        "        PI[index] += 1 #initial state distribution -> First word of the sentence\n",
        "      else:\n",
        "        A[last_index, index] += 1 #state transition matrix -> the last word exists , so count transitions\n",
        "      last_index = index #for next iteration update last index\n"
      ]
    },
    {
      "cell_type": "code",
      "execution_count": 40,
      "metadata": {
        "id": "hLag3JDghyiK"
      },
      "outputs": [],
      "source": [
        "compute_counts([t for t, y in zip(train_text_int, train_labels) if y == 0], A0,PI0)\n",
        "compute_counts([t for t, y in zip(train_text_int, train_labels) if y == 1], A1,PI1)"
      ]
    },
    {
      "cell_type": "code",
      "execution_count": 41,
      "metadata": {
        "id": "YRiNIMaEiU2z"
      },
      "outputs": [],
      "source": [
        "#normalize A and PI so they are valid probability matrices\n",
        "\n",
        "A0 = A0 / A0.sum(axis=1, keepdims=True)\n",
        "A1 = A1 / A1.sum(axis=1, keepdims=True)\n",
        "PI0 = PI0 / PI0.sum()\n",
        "PI1 = PI1 / PI1.sum()\n",
        "\n",
        "logA0 = np.log(A0)\n",
        "logA1 = np.log(A1)\n",
        "logPI0 = np.log(PI0)\n",
        "logPI1 = np.log(PI1)"
      ]
    },
    {
      "cell_type": "code",
      "execution_count": 42,
      "metadata": {
        "colab": {
          "base_uri": "https://localhost:8080/"
        },
        "id": "pohDMXv-iuhD",
        "outputId": "868ab02a-dc75-4305-8cda-096e4d54c784"
      },
      "outputs": [
        {
          "data": {
            "text/plain": [
              "(-1.0853517887964919, -0.41216188666585396)"
            ]
          },
          "execution_count": 42,
          "metadata": {},
          "output_type": "execute_result"
        }
      ],
      "source": [
        "#compute priors\n",
        "count0 = sum(y==0 for y in train_labels)\n",
        "count1 = sum(y==1 for y in train_labels)\n",
        "total = len(train_texts)\n",
        "prior0 = count0/total\n",
        "prior1 = count1/total\n",
        "\n",
        "logprior0 = np.log(prior0)\n",
        "logprior1 = np.log(prior1)\n",
        "\n",
        "logprior0, logprior1"
      ]
    },
    {
      "cell_type": "code",
      "execution_count": 43,
      "metadata": {
        "id": "0qiypMp-iw2e"
      },
      "outputs": [],
      "source": [
        "from os import pread\n",
        "from math import log\n",
        "#build a classifier\n",
        "class Clssifier:\n",
        "  def __init__(self, logA, logPI, logprior):\n",
        "    self.logA = logA\n",
        "    self.logPI = logPI\n",
        "    self.logprior = logprior\n",
        "    self.K = len(logprior)\n",
        "  def _compute_log_likelyhood(self, input_, class_):\n",
        "    logA = self.logA[class_]\n",
        "    logPI = self.logPI[class_]\n",
        "\n",
        "    last_index = None\n",
        "    logprob = 0\n",
        "    for index in input_:\n",
        "      if last_index is None:\n",
        "        logprob += logPI[index] #its the first token\n",
        "      else:\n",
        "        logprob += logA[last_index, index]\n",
        "      #update last index\n",
        "      last_index = index\n",
        "    return logprob\n",
        "\n",
        "  def predict(self, inputs):\n",
        "    predictions = np.zeros(len(inputs))\n",
        "    for i, input_ in enumerate(inputs):\n",
        "      posteriors = [self._compute_log_likelyhood(input_, class_) + self.logprior[class_] for class_ in range(self.K)]\n",
        "      predictions[i] = np.argmax(posteriors)\n",
        "\n",
        "    return predictions"
      ]
    },
    {
      "cell_type": "code",
      "execution_count": 44,
      "metadata": {
        "id": "TGSeYWc2mGZH"
      },
      "outputs": [],
      "source": [
        "# Each array must be in order since classes are assumed to index these lists\n",
        "clf = Clssifier([logA0, logA1], [logPI0, logPI1], [logprior0, logprior1])"
      ]
    },
    {
      "cell_type": "code",
      "execution_count": 45,
      "metadata": {
        "colab": {
          "base_uri": "https://localhost:8080/"
        },
        "id": "aIuJ8XpdmcSE",
        "outputId": "6beb9d67-88da-44f3-c6c1-823318c04881"
      },
      "outputs": [
        {
          "name": "stdout",
          "output_type": "stream",
          "text": [
            "Train accuracy: 0.9953569355774812\n",
            "Test accuracy: 0.8306264501160093\n"
          ]
        }
      ],
      "source": [
        "P_train = clf.predict(train_text_int)\n",
        "P_test = clf.predict(test_text_int)\n",
        "\n",
        "print(f'Train accuracy: {np.mean(P_train == train_labels)}')\n",
        "print(f'Test accuracy: {np.mean(P_test == test_labels)}')"
      ]
    },
    {
      "cell_type": "code",
      "execution_count": 46,
      "metadata": {
        "colab": {
          "base_uri": "https://localhost:8080/"
        },
        "id": "wIrKUVienAwP",
        "outputId": "23f3eabb-31a1-4a84-ea5d-e98ad0de2f4b"
      },
      "outputs": [
        {
          "data": {
            "text/plain": [
              "array([[ 70,  66],\n",
              "       [  7, 288]])"
            ]
          },
          "execution_count": 46,
          "metadata": {},
          "output_type": "execute_result"
        }
      ],
      "source": [
        "cm_test = confusion_matrix(test_labels, P_test)\n",
        "cm_test"
      ]
    },
    {
      "cell_type": "code",
      "execution_count": 47,
      "metadata": {
        "colab": {
          "base_uri": "https://localhost:8080/"
        },
        "id": "NzwsD2ACnDHC",
        "outputId": "c20cbe85-2193-419b-ffd7-0d0e3ceff998"
      },
      "outputs": [
        {
          "data": {
            "text/plain": [
              "array([[ 574,    8],\n",
              "       [   0, 1141]])"
            ]
          },
          "execution_count": 47,
          "metadata": {},
          "output_type": "execute_result"
        }
      ],
      "source": [
        "cm = confusion_matrix(train_labels, P_train)\n",
        "cm"
      ]
    },
    {
      "cell_type": "code",
      "execution_count": 48,
      "metadata": {
        "colab": {
          "base_uri": "https://localhost:8080/"
        },
        "id": "EEGVAGeHnSRw",
        "outputId": "deb7cff6-b986-4053-c9aa-ad9895cb1f39"
      },
      "outputs": [
        {
          "data": {
            "text/plain": [
              "0.8875192604006163"
            ]
          },
          "execution_count": 48,
          "metadata": {},
          "output_type": "execute_result"
        }
      ],
      "source": [
        "f1_score(test_labels, P_test)"
      ]
    },
    {
      "cell_type": "code",
      "execution_count": 49,
      "metadata": {
        "colab": {
          "base_uri": "https://localhost:8080/"
        },
        "id": "gByhfvDknT6W",
        "outputId": "e32b03b5-bfbe-4f14-ada3-8e361d258f7f"
      },
      "outputs": [
        {
          "data": {
            "text/plain": [
              "0.9965065502183407"
            ]
          },
          "execution_count": 49,
          "metadata": {},
          "output_type": "execute_result"
        }
      ],
      "source": [
        "f1_score(train_labels, P_train)"
      ]
    }
  ],
  "metadata": {
    "colab": {
      "provenance": []
    },
    "kernelspec": {
      "display_name": "Python 3",
      "name": "python3"
    },
    "language_info": {
      "name": "python"
    }
  },
  "nbformat": 4,
  "nbformat_minor": 0
}
